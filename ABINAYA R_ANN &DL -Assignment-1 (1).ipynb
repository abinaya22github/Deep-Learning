{
 "cells": [
  {
   "cell_type": "markdown",
   "id": "2f66d07d",
   "metadata": {},
   "source": [
    "For the below data write the forward pass through ANN using python and numpy.\n",
    "Pass the data through the network, display the outputs and error\n",
    "Data is about frequency(cell) of words(columns) present in a mail(row). Need to classify the mail as spam or not.\n",
    "\tDear \tDinner\tMoney\tSpam – 1 Not spam - 0\n",
    "\n",
    "Mail 1\t1\t2\t1\t0\n",
    "\n",
    "Mail 2\t1\t0\t4\t1\n",
    "\n",
    "Mail 3 \t0\t3\t0\t0\n",
    "\n",
    "Mail4\t1\t0\t2\t1\n",
    "\n",
    "\n",
    "Note: Use proper activation functions.\n",
    "          Assume weights and biases.\n",
    "          Upload only the .ipynb file without zipping.\n",
    "\n"
   ]
  },
  {
   "cell_type": "code",
   "execution_count": 18,
   "id": "6ddfe921",
   "metadata": {},
   "outputs": [],
   "source": [
    "import numpy as np\n",
    "import tensorflow as tf\n",
    "from tensorflow import keras"
   ]
  },
  {
   "cell_type": "markdown",
   "id": "950ddf6b",
   "metadata": {},
   "source": [
    "Given architecture of the neural network"
   ]
  },
  {
   "cell_type": "code",
   "execution_count": 30,
   "id": "8c19a498",
   "metadata": {},
   "outputs": [],
   "source": [
    "input_size = 3\n",
    "output_size = 1\n",
    "hidden_size = 4"
   ]
  },
  {
   "cell_type": "markdown",
   "id": "c03dcf73",
   "metadata": {},
   "source": [
    "### Sigmoid activation function"
   ]
  },
  {
   "cell_type": "code",
   "execution_count": null,
   "id": "b0691197",
   "metadata": {},
   "outputs": [],
   "source": [
    "def sigmoid(x):\n",
    "    return 1 / (1 + np.exp(-x))"
   ]
  },
  {
   "cell_type": "markdown",
   "id": "40219842",
   "metadata": {},
   "source": [
    "### inputs and expected outputs"
   ]
  },
  {
   "cell_type": "code",
   "execution_count": null,
   "id": "d99b71e6",
   "metadata": {},
   "outputs": [],
   "source": [
    "inputs = np.array([[1, 2, 1,0], [1, 0, 4,1], [0, 3, 0,1], [1, 0, 2,1]])\n",
    "\n",
    "expected_outputs = np.array([[0], [1], [0], [1]])"
   ]
  },
  {
   "cell_type": "markdown",
   "id": "4a6defd3",
   "metadata": {},
   "source": [
    "spam-1\n",
    "\n",
    "not spam-0"
   ]
  },
  {
   "cell_type": "markdown",
   "id": "76ef02c8",
   "metadata": {},
   "source": [
    "### weights and bias for the ouput layers"
   ]
  },
  {
   "cell_type": "code",
   "execution_count": 36,
   "id": "78c11eb7",
   "metadata": {},
   "outputs": [],
   "source": [
    "output_weights = np.random.uniform(size=(4, 1))\n",
    "output_bias = np.random.uniform(size=(1, 1))\n"
   ]
  },
  {
   "cell_type": "markdown",
   "id": "c8f59916",
   "metadata": {},
   "source": [
    "### weights and bias for the hidden layers"
   ]
  },
  {
   "cell_type": "code",
   "execution_count": 37,
   "id": "a6ae7c3d",
   "metadata": {},
   "outputs": [],
   "source": [
    "hidden_weights = np.random.uniform(size=(4, 4))\n",
    "hidden_bias = np.random.uniform(size=(1, 4))"
   ]
  },
  {
   "cell_type": "markdown",
   "id": "872d4188",
   "metadata": {},
   "source": [
    "### Train the neural network"
   ]
  },
  {
   "cell_type": "code",
   "execution_count": null,
   "id": "d5cbc703",
   "metadata": {},
   "outputs": [],
   "source": [
    "# Perform the forward pass through the network"
   ]
  },
  {
   "cell_type": "code",
   "execution_count": 40,
   "id": "44288243",
   "metadata": {},
   "outputs": [],
   "source": [
    "ab = sigmoid(np.dot(inputs, weights_input_hidden) + bias_hidden)\n",
    "bc = sigmoid(np.dot(hidden_layer, weights_hidden_output) + bias_output)"
   ]
  },
  {
   "cell_type": "code",
   "execution_count": 41,
   "id": "5406ad01",
   "metadata": {},
   "outputs": [
    {
     "name": "stdout",
     "output_type": "stream",
     "text": [
      "[[0.63713105]\n",
      " [0.57598141]\n",
      " [0.65480363]\n",
      " [0.5800638 ]]\n"
     ]
    }
   ],
   "source": [
    "print(bc)"
   ]
  },
  {
   "cell_type": "markdown",
   "id": "ac74aacb",
   "metadata": {},
   "source": [
    "## INFERENCE:\n",
    "    We conclude that the output values Mail3 has highest spam.mail3(0.6548)"
   ]
  },
  {
   "cell_type": "markdown",
   "id": "807ca49c",
   "metadata": {},
   "source": [
    "### Calculate the error"
   ]
  },
  {
   "cell_type": "code",
   "execution_count": 50,
   "id": "b6a722f7",
   "metadata": {},
   "outputs": [],
   "source": [
    "output_error = expected_output - output_layer\n",
    "hidden_error = np.dot(output_error, weights_hidden_output.T) * hidden_layer * (1 - hidden_layer)"
   ]
  },
  {
   "cell_type": "code",
   "execution_count": 52,
   "id": "fcef8c3b",
   "metadata": {},
   "outputs": [
    {
     "name": "stdout",
     "output_type": "stream",
     "text": [
      "[[-0.63713105]\n",
      " [ 0.42401859]\n",
      " [-0.65480363]\n",
      " [ 0.4199362 ]]\n"
     ]
    }
   ],
   "source": [
    " print(output_error)"
   ]
  },
  {
   "cell_type": "markdown",
   "id": "92c5dc27",
   "metadata": {},
   "source": [
    "## INFERENCE:"
   ]
  },
  {
   "cell_type": "markdown",
   "id": "b4239a53",
   "metadata": {},
   "source": [
    "Mail2(0.42401859) and  Mail4(0.4199362) are positive values so that  spam. Mail1(-0.63713105) and Mail3(-0.65480363) are negative values so that is not spam."
   ]
  },
  {
   "cell_type": "code",
   "execution_count": null,
   "id": "01329296",
   "metadata": {},
   "outputs": [],
   "source": []
  }
 ],
 "metadata": {
  "kernelspec": {
   "display_name": "Python 3 (ipykernel)",
   "language": "python",
   "name": "python3"
  },
  "language_info": {
   "codemirror_mode": {
    "name": "ipython",
    "version": 3
   },
   "file_extension": ".py",
   "mimetype": "text/x-python",
   "name": "python",
   "nbconvert_exporter": "python",
   "pygments_lexer": "ipython3",
   "version": "3.9.12"
  }
 },
 "nbformat": 4,
 "nbformat_minor": 5
}
